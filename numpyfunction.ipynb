{
  "nbformat": 4,
  "nbformat_minor": 0,
  "metadata": {
    "colab": {
      "provenance": [],
      "collapsed_sections": []
    },
    "kernelspec": {
      "name": "python3",
      "display_name": "Python 3"
    },
    "language_info": {
      "name": "python"
    },
    "accelerator": "GPU",
    "gpuClass": "standard"
  },
  "cells": [
    {
      "cell_type": "code",
      "metadata": {
        "id": "HXARrZB1B357"
      },
      "source": [],
      "execution_count": null,
      "outputs": []
    },
    {
      "cell_type": "markdown",
      "metadata": {
        "id": "Erbkk1FaDlNf"
      },
      "source": [
        "#1.Zeros function"
      ]
    },
    {
      "cell_type": "code",
      "metadata": {
        "id": "IGjZ7vYHDohX",
        "colab": {
          "base_uri": "https://localhost:8080/"
        },
        "outputId": "270dd35e-b9ac-4c43-c738-26ffc3aa8c90"
      },
      "source": [
        "import numpy as np\n",
        "arr=np.zeros(5)\n",
        "arr"
      ],
      "execution_count": 1,
      "outputs": [
        {
          "output_type": "execute_result",
          "data": {
            "text/plain": [
              "array([0., 0., 0., 0., 0.])"
            ]
          },
          "metadata": {},
          "execution_count": 1
        }
      ]
    },
    {
      "cell_type": "code",
      "metadata": {
        "id": "IzkfCRxiEFDN",
        "colab": {
          "base_uri": "https://localhost:8080/"
        },
        "outputId": "0546e75a-4652-4fb6-c56b-0ecc16c4c984"
      },
      "source": [
        "arr=np.zeros((2,3))\n",
        "arr"
      ],
      "execution_count": 2,
      "outputs": [
        {
          "output_type": "execute_result",
          "data": {
            "text/plain": [
              "array([[0., 0., 0.],\n",
              "       [0., 0., 0.]])"
            ]
          },
          "metadata": {},
          "execution_count": 2
        }
      ]
    },
    {
      "cell_type": "markdown",
      "metadata": {
        "id": "cSZwJcCVEXVA"
      },
      "source": [
        "#2.eye function\n"
      ]
    },
    {
      "cell_type": "code",
      "metadata": {
        "colab": {
          "base_uri": "https://localhost:8080/"
        },
        "id": "aMM44TJDEhUI",
        "outputId": "39c7ea9a-22d7-490b-d31d-457f3fdd242f"
      },
      "source": [
        "arr=np.eye(3)\n",
        "arr"
      ],
      "execution_count": 3,
      "outputs": [
        {
          "output_type": "execute_result",
          "data": {
            "text/plain": [
              "array([[1., 0., 0.],\n",
              "       [0., 1., 0.],\n",
              "       [0., 0., 1.]])"
            ]
          },
          "metadata": {},
          "execution_count": 3
        }
      ]
    },
    {
      "cell_type": "code",
      "metadata": {
        "colab": {
          "base_uri": "https://localhost:8080/"
        },
        "id": "1CHHbu3EGGlI",
        "outputId": "13261f6e-31a4-4a2d-b3c5-4658ac1ccd11"
      },
      "source": [
        "arr=np.eye(3,4)\n",
        "arr"
      ],
      "execution_count": 4,
      "outputs": [
        {
          "output_type": "execute_result",
          "data": {
            "text/plain": [
              "array([[1., 0., 0., 0.],\n",
              "       [0., 1., 0., 0.],\n",
              "       [0., 0., 1., 0.]])"
            ]
          },
          "metadata": {},
          "execution_count": 4
        }
      ]
    },
    {
      "cell_type": "markdown",
      "metadata": {
        "id": "esW1RNGzGOeQ"
      },
      "source": [
        "#3.Diagonal function\n"
      ]
    },
    {
      "cell_type": "code",
      "metadata": {
        "colab": {
          "base_uri": "https://localhost:8080/"
        },
        "id": "qToin0R6GNEs",
        "outputId": "26c3fce0-ef22-490a-dd7e-f3f1f0260ea4"
      },
      "source": [
        "arr=np.diag([1,5,3,7])\n",
        "np.diag(arr)\n",
        "arr"
      ],
      "execution_count": 5,
      "outputs": [
        {
          "output_type": "execute_result",
          "data": {
            "text/plain": [
              "array([[1, 0, 0, 0],\n",
              "       [0, 5, 0, 0],\n",
              "       [0, 0, 3, 0],\n",
              "       [0, 0, 0, 7]])"
            ]
          },
          "metadata": {},
          "execution_count": 5
        }
      ]
    },
    {
      "cell_type": "code",
      "metadata": {
        "id": "6LwIRfecfyDR"
      },
      "source": [],
      "execution_count": 5,
      "outputs": []
    },
    {
      "cell_type": "markdown",
      "metadata": {
        "id": "AUA0yqPUqQ3i"
      },
      "source": [
        "#4.generate random number"
      ]
    },
    {
      "cell_type": "code",
      "metadata": {
        "colab": {
          "base_uri": "https://localhost:8080/"
        },
        "id": "PHo7S_7YqQpr",
        "outputId": "5e5d1e08-42e4-4af3-cf5d-d05d36d02856"
      },
      "source": [
        "arr=np.random.randint(1,10,3)\n",
        "arr"
      ],
      "execution_count": 6,
      "outputs": [
        {
          "output_type": "execute_result",
          "data": {
            "text/plain": [
              "array([9, 2, 7])"
            ]
          },
          "metadata": {},
          "execution_count": 6
        }
      ]
    },
    {
      "cell_type": "markdown",
      "metadata": {
        "id": "UUb709U4rCxa"
      },
      "source": [
        "#5.rand fuunction\n"
      ]
    },
    {
      "cell_type": "code",
      "metadata": {
        "colab": {
          "base_uri": "https://localhost:8080/"
        },
        "id": "qVpoDAZ5rMO5",
        "outputId": "057466d1-9c4a-4ce9-a8d1-209ff9b39dee"
      },
      "source": [
        "arry=np.random.rand(5)\n",
        "arr"
      ],
      "execution_count": 7,
      "outputs": [
        {
          "output_type": "execute_result",
          "data": {
            "text/plain": [
              "array([9, 2, 7])"
            ]
          },
          "metadata": {},
          "execution_count": 7
        }
      ]
    },
    {
      "cell_type": "code",
      "metadata": {
        "colab": {
          "base_uri": "https://localhost:8080/"
        },
        "id": "Ua209R80rRjc",
        "outputId": "0c1f1453-dbc2-4624-c102-c55107a1c742"
      },
      "source": [
        "arry=np.random.randn(5)\n",
        "arry"
      ],
      "execution_count": 8,
      "outputs": [
        {
          "output_type": "execute_result",
          "data": {
            "text/plain": [
              "array([ 0.29763153, -0.1723125 , -0.63000128,  0.3322382 , -0.08044459])"
            ]
          },
          "metadata": {},
          "execution_count": 8
        }
      ]
    },
    {
      "cell_type": "code",
      "metadata": {
        "id": "YNHLxVBGsHmp"
      },
      "source": [],
      "execution_count": 8,
      "outputs": []
    },
    {
      "cell_type": "markdown",
      "metadata": {
        "id": "mhp04aeCxQSa"
      },
      "source": [
        "#6.view and copy of array"
      ]
    },
    {
      "cell_type": "code",
      "metadata": {
        "colab": {
          "base_uri": "https://localhost:8080/"
        },
        "id": "hYerPOKn1KbA",
        "outputId": "7023ccfe-81e8-4d34-9a8e-6dbaa0ee6ace"
      },
      "source": [
        "import numpy as np\n",
        "a=np.array([10,20,30,40,50,60,70,80,90])\n",
        "b=a[3:6]\n",
        "b"
      ],
      "execution_count": 9,
      "outputs": [
        {
          "output_type": "execute_result",
          "data": {
            "text/plain": [
              "array([40, 50, 60])"
            ]
          },
          "metadata": {},
          "execution_count": 9
        }
      ]
    },
    {
      "cell_type": "code",
      "metadata": {
        "colab": {
          "base_uri": "https://localhost:8080/"
        },
        "id": "-2owcn231f7g",
        "outputId": "b8287f54-7765-4b55-87c4-3fba69170bdd"
      },
      "source": [
        "import numpy as np\n",
        "a=np.array([10,20,30,40,50,60,70,80,90])\n",
        "b=a[3:6]\n",
        "b[:]=0\n",
        "a"
      ],
      "execution_count": 10,
      "outputs": [
        {
          "output_type": "execute_result",
          "data": {
            "text/plain": [
              "array([10, 20, 30,  0,  0,  0, 70, 80, 90])"
            ]
          },
          "metadata": {},
          "execution_count": 10
        }
      ]
    },
    {
      "cell_type": "code",
      "metadata": {
        "colab": {
          "base_uri": "https://localhost:8080/"
        },
        "id": "LqTYmidD1pwA",
        "outputId": "9cfb611a-4691-412a-c729-a393cf38c4a4"
      },
      "source": [
        "import numpy as np\n",
        "a=np.array([10,20,30,40,50,60,70,80,90])\n",
        "b=a[3:6].copy()\n",
        "b[:]=0\n",
        "a"
      ],
      "execution_count": 11,
      "outputs": [
        {
          "output_type": "execute_result",
          "data": {
            "text/plain": [
              "array([10, 20, 30, 40, 50, 60, 70, 80, 90])"
            ]
          },
          "metadata": {},
          "execution_count": 11
        }
      ]
    },
    {
      "cell_type": "code",
      "metadata": {
        "id": "1VJZ3_AL19UR"
      },
      "source": [],
      "execution_count": 11,
      "outputs": []
    },
    {
      "cell_type": "markdown",
      "metadata": {
        "id": "KuUVyEsF44zx"
      },
      "source": [
        "#7.Numpy in pythhon conditional selection"
      ]
    },
    {
      "cell_type": "code",
      "metadata": {
        "id": "2TbHfE-35AXw",
        "colab": {
          "base_uri": "https://localhost:8080/"
        },
        "outputId": "fce68090-f8fb-4bc0-f108-ac03c88e45ba"
      },
      "source": [
        "import numpy as np\n",
        "arr=np.arange(1,16)\n",
        "arr"
      ],
      "execution_count": 12,
      "outputs": [
        {
          "output_type": "execute_result",
          "data": {
            "text/plain": [
              "array([ 1,  2,  3,  4,  5,  6,  7,  8,  9, 10, 11, 12, 13, 14, 15])"
            ]
          },
          "metadata": {},
          "execution_count": 12
        }
      ]
    },
    {
      "cell_type": "code",
      "metadata": {
        "id": "MSy5Jwmn5JVu",
        "colab": {
          "base_uri": "https://localhost:8080/"
        },
        "outputId": "dfaa9885-d601-4b5a-b0c0-35261bb8abb9"
      },
      "source": [
        "import numpy as np\n",
        "arr=np.arange(1,16)\n",
        "arr>10"
      ],
      "execution_count": 13,
      "outputs": [
        {
          "output_type": "execute_result",
          "data": {
            "text/plain": [
              "array([False, False, False, False, False, False, False, False, False,\n",
              "       False,  True,  True,  True,  True,  True])"
            ]
          },
          "metadata": {},
          "execution_count": 13
        }
      ]
    },
    {
      "cell_type": "code",
      "metadata": {
        "id": "_cuACF845MdB",
        "colab": {
          "base_uri": "https://localhost:8080/"
        },
        "outputId": "2de59c4d-82a4-4189-bd5f-a384b3ae77ca"
      },
      "source": [
        "# import numpy as np\n",
        "# arr=np.arange(1,16)\n",
        "# arr[arr>10]\n",
        "import numpy as np\n",
        "arr= np.arange(1,15)\n",
        "arr[arr>10]"
      ],
      "execution_count": 14,
      "outputs": [
        {
          "output_type": "execute_result",
          "data": {
            "text/plain": [
              "array([11, 12, 13, 14])"
            ]
          },
          "metadata": {},
          "execution_count": 14
        }
      ]
    },
    {
      "cell_type": "code",
      "metadata": {
        "id": "TfFGt2mt5SCV",
        "colab": {
          "base_uri": "https://localhost:8080/"
        },
        "outputId": "31deadb7-bf8e-483c-dc26-b409cb22ddb1"
      },
      "source": [
        "import numpy as np\n",
        "arr=np.arange(1,16)\n",
        "arr[arr%2==0]"
      ],
      "execution_count": 15,
      "outputs": [
        {
          "output_type": "execute_result",
          "data": {
            "text/plain": [
              "array([ 2,  4,  6,  8, 10, 12, 14])"
            ]
          },
          "metadata": {},
          "execution_count": 15
        }
      ]
    },
    {
      "cell_type": "code",
      "metadata": {
        "id": "ILNXJN475edT",
        "colab": {
          "base_uri": "https://localhost:8080/"
        },
        "outputId": "2f78a1b9-f65d-4096-e7e5-37c451a152b8"
      },
      "source": [
        "import numpy as np\n",
        "arr=np.arange(1,16)\n",
        "arr[arr%2==0]=0\n",
        "arr"
      ],
      "execution_count": 16,
      "outputs": [
        {
          "output_type": "execute_result",
          "data": {
            "text/plain": [
              "array([ 1,  0,  3,  0,  5,  0,  7,  0,  9,  0, 11,  0, 13,  0, 15])"
            ]
          },
          "metadata": {},
          "execution_count": 16
        }
      ]
    },
    {
      "cell_type": "code",
      "metadata": {
        "id": "ZD1GVm185hGC"
      },
      "source": [],
      "execution_count": 16,
      "outputs": []
    },
    {
      "cell_type": "markdown",
      "metadata": {
        "id": "ZcZca0Aq7Mfy"
      },
      "source": [
        "#8.Various opration on numpy array"
      ]
    },
    {
      "cell_type": "code",
      "metadata": {
        "id": "H1k8Qpcb7TMR",
        "colab": {
          "base_uri": "https://localhost:8080/"
        },
        "outputId": "e982bedd-c2b3-44d7-9b71-fd73a04f3dd8"
      },
      "source": [
        "import numpy as np\n",
        "arr=np.arange(1,5)\n",
        "arr"
      ],
      "execution_count": 17,
      "outputs": [
        {
          "output_type": "execute_result",
          "data": {
            "text/plain": [
              "array([1, 2, 3, 4])"
            ]
          },
          "metadata": {},
          "execution_count": 17
        }
      ]
    },
    {
      "cell_type": "code",
      "metadata": {
        "id": "74X8DVe37a_Y",
        "colab": {
          "base_uri": "https://localhost:8080/"
        },
        "outputId": "e6794e99-cd9a-4593-8632-0f295b2932ef"
      },
      "source": [
        "arr+2"
      ],
      "execution_count": 18,
      "outputs": [
        {
          "output_type": "execute_result",
          "data": {
            "text/plain": [
              "array([3, 4, 5, 6])"
            ]
          },
          "metadata": {},
          "execution_count": 18
        }
      ]
    },
    {
      "cell_type": "code",
      "metadata": {
        "id": "wMuy0QjA7cV8",
        "colab": {
          "base_uri": "https://localhost:8080/"
        },
        "outputId": "78f7cc24-b33f-48bc-8763-66ff791edadb"
      },
      "source": [
        "arr*2"
      ],
      "execution_count": 19,
      "outputs": [
        {
          "output_type": "execute_result",
          "data": {
            "text/plain": [
              "array([2, 4, 6, 8])"
            ]
          },
          "metadata": {},
          "execution_count": 19
        }
      ]
    },
    {
      "cell_type": "code",
      "metadata": {
        "id": "hmLCw8uw7eLn",
        "colab": {
          "base_uri": "https://localhost:8080/"
        },
        "outputId": "4160d24e-c913-4868-f551-c492a9e26b1a"
      },
      "source": [
        "arr**2"
      ],
      "execution_count": 20,
      "outputs": [
        {
          "output_type": "execute_result",
          "data": {
            "text/plain": [
              "array([ 1,  4,  9, 16])"
            ]
          },
          "metadata": {},
          "execution_count": 20
        }
      ]
    },
    {
      "cell_type": "markdown",
      "metadata": {
        "id": "2Vsl5oYZ7iE2"
      },
      "source": [
        "##9.**Operation on 2D marix**"
      ]
    },
    {
      "cell_type": "code",
      "metadata": {
        "id": "HZJKhJXUCzxG"
      },
      "source": [
        "import numpy as np\n",
        "a=np.array([1,2,3,4]).reshape(2,2)\n",
        "b=np.array([5,6,7,8]).reshape(2,2)\n"
      ],
      "execution_count": 21,
      "outputs": []
    },
    {
      "cell_type": "code",
      "metadata": {
        "colab": {
          "base_uri": "https://localhost:8080/"
        },
        "id": "k8eRNLvZHTFM",
        "outputId": "3b52d179-b4f8-41e0-f50f-6e3e2bf1829c"
      },
      "source": [
        "a"
      ],
      "execution_count": 22,
      "outputs": [
        {
          "output_type": "execute_result",
          "data": {
            "text/plain": [
              "array([[1, 2],\n",
              "       [3, 4]])"
            ]
          },
          "metadata": {},
          "execution_count": 22
        }
      ]
    },
    {
      "cell_type": "code",
      "metadata": {
        "colab": {
          "base_uri": "https://localhost:8080/"
        },
        "id": "42oYhTgOHUMr",
        "outputId": "c881002b-1705-42a8-c7c1-5eb0ba2328ac"
      },
      "source": [
        "b"
      ],
      "execution_count": 23,
      "outputs": [
        {
          "output_type": "execute_result",
          "data": {
            "text/plain": [
              "array([[5, 6],\n",
              "       [7, 8]])"
            ]
          },
          "metadata": {},
          "execution_count": 23
        }
      ]
    },
    {
      "cell_type": "code",
      "metadata": {
        "colab": {
          "base_uri": "https://localhost:8080/"
        },
        "id": "WQKXmFaHHVXI",
        "outputId": "4c924c35-4af4-471b-d72d-2da632998fdb"
      },
      "source": [
        "a+b\n"
      ],
      "execution_count": 24,
      "outputs": [
        {
          "output_type": "execute_result",
          "data": {
            "text/plain": [
              "array([[ 6,  8],\n",
              "       [10, 12]])"
            ]
          },
          "metadata": {},
          "execution_count": 24
        }
      ]
    },
    {
      "cell_type": "code",
      "metadata": {
        "colab": {
          "base_uri": "https://localhost:8080/"
        },
        "id": "vQEzrXyGHXgK",
        "outputId": "7fdd862d-a08a-4ed7-f6a6-55c2bc0abd0e"
      },
      "source": [
        "a.dot(b)"
      ],
      "execution_count": 25,
      "outputs": [
        {
          "output_type": "execute_result",
          "data": {
            "text/plain": [
              "array([[19, 22],\n",
              "       [43, 50]])"
            ]
          },
          "metadata": {},
          "execution_count": 25
        }
      ]
    },
    {
      "cell_type": "markdown",
      "metadata": {
        "id": "wUn8uU_dHbCK"
      },
      "source": [
        "#10. **some more fuction of num**\n",
        "\n"
      ]
    },
    {
      "cell_type": "code",
      "metadata": {
        "id": "ttzV4_uoHZ60",
        "colab": {
          "base_uri": "https://localhost:8080/"
        },
        "outputId": "1888f622-5376-4fcc-bc66-6814e30636ba"
      },
      "source": [
        "import numpy as np\n",
        "a=np.array([10,20,30,40,50,60])\n",
        "np.min(a)\n"
      ],
      "execution_count": 26,
      "outputs": [
        {
          "output_type": "execute_result",
          "data": {
            "text/plain": [
              "10"
            ]
          },
          "metadata": {},
          "execution_count": 26
        }
      ]
    },
    {
      "cell_type": "code",
      "metadata": {
        "id": "fcXra0dYJK6u",
        "colab": {
          "base_uri": "https://localhost:8080/"
        },
        "outputId": "55c5589d-8997-40cd-b3e3-11146505acd4"
      },
      "source": [
        "np.max(a)"
      ],
      "execution_count": 27,
      "outputs": [
        {
          "output_type": "execute_result",
          "data": {
            "text/plain": [
              "60"
            ]
          },
          "metadata": {},
          "execution_count": 27
        }
      ]
    },
    {
      "cell_type": "code",
      "metadata": {
        "id": "Pg29pSkKJNrg",
        "colab": {
          "base_uri": "https://localhost:8080/"
        },
        "outputId": "60438ec3-a6f1-49c7-abc1-4551f995c8ff"
      },
      "source": [
        "np.argmax(a)"
      ],
      "execution_count": 28,
      "outputs": [
        {
          "output_type": "execute_result",
          "data": {
            "text/plain": [
              "5"
            ]
          },
          "metadata": {},
          "execution_count": 28
        }
      ]
    },
    {
      "cell_type": "code",
      "metadata": {
        "id": "PkT8BUSIJRi0",
        "colab": {
          "base_uri": "https://localhost:8080/"
        },
        "outputId": "72aab3ab-608e-4b78-812d-9cc3ee36eb63"
      },
      "source": [
        "np.argmin(a)"
      ],
      "execution_count": 29,
      "outputs": [
        {
          "output_type": "execute_result",
          "data": {
            "text/plain": [
              "0"
            ]
          },
          "metadata": {},
          "execution_count": 29
        }
      ]
    },
    {
      "cell_type": "code",
      "metadata": {
        "id": "IktPaTw-JbAB",
        "colab": {
          "base_uri": "https://localhost:8080/"
        },
        "outputId": "647abc05-c69a-4c5e-a103-7065cc87f6be"
      },
      "source": [
        "np.sqrt(a)"
      ],
      "execution_count": 30,
      "outputs": [
        {
          "output_type": "execute_result",
          "data": {
            "text/plain": [
              "array([3.16227766, 4.47213595, 5.47722558, 6.32455532, 7.07106781,\n",
              "       7.74596669])"
            ]
          },
          "metadata": {},
          "execution_count": 30
        }
      ]
    },
    {
      "cell_type": "code",
      "metadata": {
        "id": "4A8fMOK-JffV",
        "colab": {
          "base_uri": "https://localhost:8080/"
        },
        "outputId": "c1b7d912-7c26-41a9-8999-0a15eeb93620"
      },
      "source": [
        "np.sin(a)"
      ],
      "execution_count": 31,
      "outputs": [
        {
          "output_type": "execute_result",
          "data": {
            "text/plain": [
              "array([-0.54402111,  0.91294525, -0.98803162,  0.74511316, -0.26237485,\n",
              "       -0.30481062])"
            ]
          },
          "metadata": {},
          "execution_count": 31
        }
      ]
    },
    {
      "cell_type": "code",
      "metadata": {
        "id": "_Xh5g18eJjDV",
        "colab": {
          "base_uri": "https://localhost:8080/"
        },
        "outputId": "2517ce43-7d2b-4c36-b31b-47082118f9d7"
      },
      "source": [
        "np.cos(a)"
      ],
      "execution_count": 32,
      "outputs": [
        {
          "output_type": "execute_result",
          "data": {
            "text/plain": [
              "array([-0.83907153,  0.40808206,  0.15425145, -0.66693806,  0.96496603,\n",
              "       -0.95241298])"
            ]
          },
          "metadata": {},
          "execution_count": 32
        }
      ]
    },
    {
      "cell_type": "code",
      "metadata": {
        "id": "OnIolxnAJlWM"
      },
      "source": [],
      "execution_count": 32,
      "outputs": []
    },
    {
      "cell_type": "markdown",
      "metadata": {
        "id": "xfXNs2-FJnR0"
      },
      "source": [
        "#11.  **Another  most important function**\n",
        "\n",
        "---\n",
        "\n"
      ]
    },
    {
      "cell_type": "code",
      "metadata": {
        "id": "hjVFWy-dJr5G",
        "colab": {
          "base_uri": "https://localhost:8080/"
        },
        "outputId": "8485c661-beaf-4651-c0e3-45290f769733"
      },
      "source": [
        "import numpy as np\n",
        "a=np.array([10,20,30,40,50])\n",
        "np.linspace(1,10,5)"
      ],
      "execution_count": 35,
      "outputs": [
        {
          "output_type": "execute_result",
          "data": {
            "text/plain": [
              "array([ 1.  ,  3.25,  5.5 ,  7.75, 10.  ])"
            ]
          },
          "metadata": {},
          "execution_count": 35
        }
      ]
    },
    {
      "cell_type": "markdown",
      "metadata": {
        "id": "CzezXAaENY5m"
      },
      "source": [
        "#12.**Creating 2D array with fixed datatype**\n",
        "\n",
        "---\n",
        "\n"
      ]
    },
    {
      "cell_type": "code",
      "metadata": {
        "id": "QF8UuvZdNgto",
        "colab": {
          "base_uri": "https://localhost:8080/"
        },
        "outputId": "3f677272-19af-4e77-cede-89b4614cf28c"
      },
      "source": [
        "import numpy as np\n",
        "np.random.seed(122)\n",
        "matrix=np.random.randint(1,21,9).reshape(3,3)\n",
        "matrix"
      ],
      "execution_count": 36,
      "outputs": [
        {
          "output_type": "execute_result",
          "data": {
            "text/plain": [
              "array([[16, 11, 13],\n",
              "       [17, 13, 16],\n",
              "       [ 3, 16, 11]])"
            ]
          },
          "metadata": {},
          "execution_count": 36
        }
      ]
    },
    {
      "cell_type": "code",
      "metadata": {
        "id": "mA0FmMptOUT6",
        "colab": {
          "base_uri": "https://localhost:8080/"
        },
        "outputId": "5cc76c61-b69c-4b77-ed03-99c863520b88"
      },
      "source": [
        "np.sum(matrix)"
      ],
      "execution_count": 37,
      "outputs": [
        {
          "output_type": "execute_result",
          "data": {
            "text/plain": [
              "116"
            ]
          },
          "metadata": {},
          "execution_count": 37
        }
      ]
    },
    {
      "cell_type": "code",
      "metadata": {
        "id": "3GSstNmMOaYq",
        "colab": {
          "base_uri": "https://localhost:8080/"
        },
        "outputId": "63ba31b1-fe4d-454b-d1f7-33f8f374e358"
      },
      "source": [
        "np.max(matrix)"
      ],
      "execution_count": 38,
      "outputs": [
        {
          "output_type": "execute_result",
          "data": {
            "text/plain": [
              "17"
            ]
          },
          "metadata": {},
          "execution_count": 38
        }
      ]
    },
    {
      "cell_type": "code",
      "metadata": {
        "id": "MEd1Kgn2OeeQ",
        "colab": {
          "base_uri": "https://localhost:8080/"
        },
        "outputId": "9baf9df0-56fd-4507-9077-f9a899c510f4"
      },
      "source": [
        "np.min(matrix,axis=1)"
      ],
      "execution_count": 39,
      "outputs": [
        {
          "output_type": "execute_result",
          "data": {
            "text/plain": [
              "array([11, 13,  3])"
            ]
          },
          "metadata": {},
          "execution_count": 39
        }
      ]
    },
    {
      "cell_type": "code",
      "metadata": {
        "id": "OBDSYv15UQp2",
        "colab": {
          "base_uri": "https://localhost:8080/"
        },
        "outputId": "9ad68c8f-c504-4c00-df75-847de2493c4e"
      },
      "source": [
        "np.max(matrix,axis=0)"
      ],
      "execution_count": 41,
      "outputs": [
        {
          "output_type": "execute_result",
          "data": {
            "text/plain": [
              "array([17, 16, 16])"
            ]
          },
          "metadata": {},
          "execution_count": 41
        }
      ]
    },
    {
      "cell_type": "code",
      "metadata": {
        "colab": {
          "base_uri": "https://localhost:8080/"
        },
        "id": "3wm-KyqyUW5i",
        "outputId": "d29f8602-5fb2-445d-974f-10294e3b9972"
      },
      "source": [
        "np.sum(matrix, axis=1)"
      ],
      "execution_count": 42,
      "outputs": [
        {
          "output_type": "execute_result",
          "data": {
            "text/plain": [
              "array([40, 46, 30])"
            ]
          },
          "metadata": {},
          "execution_count": 42
        }
      ]
    },
    {
      "cell_type": "markdown",
      "metadata": {
        "id": "Nofa4lkqjeu2"
      },
      "source": []
    },
    {
      "cell_type": "markdown",
      "metadata": {
        "id": "mGFeIZ3ai3XP"
      },
      "source": [
        "#13.Python Numpy stacking"
      ]
    },
    {
      "cell_type": "code",
      "metadata": {
        "id": "lezHVOgNi-0I",
        "colab": {
          "base_uri": "https://localhost:8080/"
        },
        "outputId": "48e89f95-b9e3-4ab2-9fdb-10a169f2d501"
      },
      "source": [
        "import numpy as np\n",
        "np.random.seed(122)\n",
        "arr1=np.random.randint(1,21,9).reshape(3,3)\n",
        "arr2=np.random.randint(31,51,9).reshape(3,3)\n",
        "arr1\n"
      ],
      "execution_count": 43,
      "outputs": [
        {
          "output_type": "execute_result",
          "data": {
            "text/plain": [
              "array([[16, 11, 13],\n",
              "       [17, 13, 16],\n",
              "       [ 3, 16, 11]])"
            ]
          },
          "metadata": {},
          "execution_count": 43
        }
      ]
    },
    {
      "cell_type": "code",
      "metadata": {
        "id": "Fom3-yoTjukM",
        "colab": {
          "base_uri": "https://localhost:8080/"
        },
        "outputId": "06129be3-9285-4f97-b549-5be7543f2f03"
      },
      "source": [
        "import numpy as np\n",
        "np.random.seed(122)\n",
        "arr1=np.random.randint(1,21,9).reshape(3,3)\n",
        "arr2=np.random.randint(31,51,9).reshape(3,3)\n",
        "np.hstack((arr1,arr2))\n"
      ],
      "execution_count": 44,
      "outputs": [
        {
          "output_type": "execute_result",
          "data": {
            "text/plain": [
              "array([[16, 11, 13, 40, 37, 45],\n",
              "       [17, 13, 16, 34, 35, 50],\n",
              "       [ 3, 16, 11, 50, 44, 31]])"
            ]
          },
          "metadata": {},
          "execution_count": 44
        }
      ]
    },
    {
      "cell_type": "markdown",
      "metadata": {
        "id": "WpytmwoOnBiu"
      },
      "source": [
        "#14. List vs numpy"
      ]
    },
    {
      "cell_type": "code",
      "metadata": {
        "colab": {
          "base_uri": "https://localhost:8080/"
        },
        "id": "Y9XnAisvnFNq",
        "outputId": "ad71efea-7682-4877-c72a-c091c61aa166"
      },
      "source": [
        "%timeit[i**2 for i in range (1,11)]"
      ],
      "execution_count": 45,
      "outputs": [
        {
          "output_type": "stream",
          "name": "stderr",
          "text": [
            "UsageError: Line magic function `%timeit[i**2` not found.\n"
          ]
        }
      ]
    },
    {
      "cell_type": "code",
      "metadata": {
        "id": "dhq8aAV3nOrr",
        "colab": {
          "base_uri": "https://localhost:8080/"
        },
        "outputId": "1235bd01-8f59-4cd2-c1a9-c8b40bffa63f"
      },
      "source": [
        "import numpy as np\n",
        "%timeit np.arange(1,11)**2"
      ],
      "execution_count": 46,
      "outputs": [
        {
          "output_type": "stream",
          "name": "stdout",
          "text": [
            "1.38 µs ± 22.5 ns per loop (mean ± std. dev. of 7 runs, 1000000 loops each)\n"
          ]
        }
      ]
    },
    {
      "cell_type": "markdown",
      "metadata": {
        "id": "g_6WwyKEuzkl"
      },
      "source": [
        "#15.Numpy searching Arrays"
      ]
    },
    {
      "cell_type": "code",
      "metadata": {
        "colab": {
          "base_uri": "https://localhost:8080/"
        },
        "id": "_cEmd_QOvJ9P",
        "outputId": "32f47d8d-b2f1-4e01-a2a3-a34143d59e2b"
      },
      "source": [
        "import numpy as np\n",
        "arr=np.array([10,20,30,40,50,60])\n",
        "x= np.where(arr==40)\n",
        "x"
      ],
      "execution_count": 47,
      "outputs": [
        {
          "output_type": "execute_result",
          "data": {
            "text/plain": [
              "(array([3]),)"
            ]
          },
          "metadata": {},
          "execution_count": 47
        }
      ]
    },
    {
      "cell_type": "code",
      "metadata": {
        "colab": {
          "base_uri": "https://localhost:8080/"
        },
        "id": "qjT8DM43vYMm",
        "outputId": "62ec40fa-206e-4ce8-e06d-0ef03ebb4c28"
      },
      "source": [
        "import numpy as np\n",
        "a=np.array([10,20,30,40,50,60])\n",
        "x=np.searchsorted(a,70\n",
        "                  )\n",
        "print(x)"
      ],
      "execution_count": 48,
      "outputs": [
        {
          "output_type": "stream",
          "name": "stdout",
          "text": [
            "6\n"
          ]
        }
      ]
    },
    {
      "cell_type": "markdown",
      "source": [],
      "metadata": {
        "id": "AfWejLFIDpqJ"
      }
    },
    {
      "cell_type": "code",
      "source": [],
      "metadata": {
        "id": "uBosTN9aDo8r"
      },
      "execution_count": null,
      "outputs": []
    }
  ]
}